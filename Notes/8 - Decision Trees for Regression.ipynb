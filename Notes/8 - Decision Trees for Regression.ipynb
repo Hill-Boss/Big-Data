{
 "cells": [
  {
   "cell_type": "code",
   "execution_count": 9,
   "metadata": {},
   "outputs": [],
   "source": [
    "import numpy as np\n",
    "import matplotlib.pyplot as plt"
   ]
  },
  {
   "cell_type": "markdown",
   "metadata": {},
   "source": [
    "# A Decision Tree for Regression"
   ]
  },
  {
   "cell_type": "code",
   "execution_count": 10,
   "metadata": {},
   "outputs": [],
   "source": [
    "'main function'\n",
    "def decision_tree_regression(X,y,max_level,level=0):\n",
    "    \n",
    "    size = X.shape\n",
    "    try:\n",
    "        n_features = size[1]\n",
    "    except IndexError:\n",
    "        n_features = 1\n",
    "        X = X[:,None]\n",
    "        \n",
    "    'let the algorithm choose the feature'\n",
    "    p_list = np.zeros(n_features) \n",
    "    MSE_list = np.zeros(n_features)\n",
    "    for feature in range(n_features): #for each feature, find the best partition\n",
    "        feature_grid = np.linspace(np.max(X[:,feature]),np.min(X[:,feature]),1000)\n",
    "        MSE_grid = []\n",
    "        for p in feature_grid: #for each partition, find the MSE\n",
    "            'subset 1'\n",
    "            X1 = X[X[:,feature]>=p]\n",
    "            y1 = y[X[:,feature]>=p]\n",
    "            if len(y1)>0:\n",
    "                MSE1 = np.linalg.norm(y1-np.mean(y1))\n",
    "            else:\n",
    "                MSE1 = 0\n",
    "            'subset 2'\n",
    "            X2 = X[X[:,feature]<p]\n",
    "            y2 = y[X[:,feature]<p]\n",
    "            if len(y2)>0:\n",
    "                MSE2 = np.linalg.norm(y2-np.mean(y2))\n",
    "            else:\n",
    "                MSE2 = 0\n",
    "            'MSE of the partition'\n",
    "            MSE_grid.append(MSE1+MSE2)\n",
    "            \n",
    "        idx = np.argmin(MSE_grid) \n",
    "        p_list[feature] = feature_grid[idx]\n",
    "        MSE_list[feature] = MSE_grid[idx]\n",
    "    \n",
    "    feature = np.argmin(MSE_list)\n",
    "    optimal_p = p_list[feature]\n",
    "    \n",
    "    Tree = [optimal_p]    \n",
    "    feature_Tree = [feature]\n",
    "    \n",
    "    'two subsets'\n",
    "    X1,y1 = X[X[:,feature]>=optimal_p], y[X[:,feature]>=optimal_p] # subset 1\n",
    "    X2,y2 = X[X[:,feature]<optimal_p], y[X[:,feature]<optimal_p] # subset 2\n",
    "    \n",
    "    values_Tree = []\n",
    "    if len(y1)>0: #if y1 is not empty\n",
    "        values_Tree.append(np.mean(y1))\n",
    "    else:\n",
    "        values_Tree.append(0)\n",
    "    if len(y2)>0:\n",
    "        values_Tree.append(np.mean(y2))\n",
    "    else:\n",
    "        values_Tree.append(0)\n",
    "\n",
    "    \n",
    "    X_subsets = [X1,X2]\n",
    "    y_subsets = [y1,y2]\n",
    "    \n",
    "    if level<max_level:\n",
    "        level = level+1\n",
    "        \n",
    "        Tree_next_level = []\n",
    "        values_Tree_next_level = []\n",
    "        feature_Tree_next_level = []\n",
    "        for i in range(2):\n",
    "            if len(y_subsets[i])>0: #if the set is not empty\n",
    "                new_tree_list,new_values_tree,new_feature_list = decision_tree_regression(X_subsets[i],\n",
    "                                                                               y_subsets[i],\n",
    "                                                                               max_level=max_level,\n",
    "                                                                               level=level)\n",
    "                Tree_next_level.append(new_tree_list)\n",
    "                values_Tree_next_level.append(new_values_tree)\n",
    "                feature_Tree_next_level.append(new_feature_list)\n",
    "            else:\n",
    "                Tree_next_level.append('stop')\n",
    "                values_Tree_next_level.append('stop')\n",
    "                feature_Tree_next_level.append('stop')\n",
    "        \n",
    "        Tree.append(Tree_next_level)\n",
    "        values_Tree.append(values_Tree_next_level)\n",
    "        feature_Tree.append(feature_Tree_next_level)\n",
    "    return Tree,values_Tree,feature_Tree"
   ]
  },
  {
   "cell_type": "code",
   "execution_count": 24,
   "metadata": {},
   "outputs": [],
   "source": [
    "'predictor function'\n",
    "def tree_predictor(Tree,values_Tree,feature_Tree,new_point,max_level):\n",
    "    next_level = True\n",
    "    level = 0\n",
    "    try: #check whether new_point is a scalar or a vector\n",
    "        new_point[0]\n",
    "    except IndexError: #new_point is a scalar\n",
    "        new_point = new_point[None] #new_point is a 1-component vector\n",
    "    while level<max_level:\n",
    "        feature = feature_Tree[0]\n",
    "        p = Tree[0]\n",
    "        if new_point[feature]>=p:\n",
    "            y_predicted = values_Tree[0]\n",
    "            Tree = Tree[1][0]\n",
    "            values_Tree = values_Tree[2][0]\n",
    "            feature_Tree = feature_Tree[1][0]\n",
    "            if values_Tree == 'stop':\n",
    "                return y_predicted\n",
    "        else:\n",
    "            y_predicted = values_Tree[1]\n",
    "            Tree = Tree[1][1]\n",
    "            values_Tree = values_Tree[2][1]\n",
    "            feature_Tree = feature_Tree[1][1]\n",
    "            if values_Tree == 'stop':\n",
    "                return y_predicted\n",
    "        level = level + 1\n",
    "        \n",
    "    'deepest level'\n",
    "    p = Tree[0]\n",
    "    feature = feature_Tree[0]\n",
    "    if new_point[feature]>=p:\n",
    "        y_predicted = values_Tree[0]\n",
    "    else:\n",
    "        y_predicted = values_Tree[1]\n",
    "    return y_predicted"
   ]
  },
  {
   "cell_type": "code",
   "execution_count": 12,
   "metadata": {},
   "outputs": [
    {
     "data": {
      "text/plain": [
       "[<matplotlib.lines.Line2D at 0x7fc5c265b588>]"
      ]
     },
     "execution_count": 12,
     "metadata": {},
     "output_type": "execute_result"
    },
    {
     "data": {
      "image/png": "[encoded data removed]",
      "text/plain": [
       "<Figure size 432x288 with 1 Axes>"
      ]
     },
     "metadata": {
      "needs_background": "light"
     },
     "output_type": "display_data"
    }
   ],
   "source": [
    "'example 1'\n",
    "x = np.zeros(20)\n",
    "y = np.zeros(20)\n",
    "\n",
    "x[:10] = np.linspace(0,1,10)\n",
    "y[:10] = 1 + 0.1*np.random.randn(10)\n",
    "\n",
    "x[10:] = np.linspace(1,2,10)\n",
    "y[10:] = 3 + 0.1*np.random.randn(10)\n",
    "plt.plot(x,y,'ob')"
   ]
  },
  {
   "cell_type": "code",
   "execution_count": 25,
   "metadata": {
    "scrolled": false
   },
   "outputs": [],
   "source": [
    "max_level = 5\n",
    "Tree,values_Tree,feature_Tree = decision_tree_regression(x,y,max_level)"
   ]
  },
  {
   "cell_type": "code",
   "execution_count": 26,
   "metadata": {
    "scrolled": true
   },
   "outputs": [
    {
     "data": {
      "text/plain": [
       "[<matplotlib.lines.Line2D at 0x7fc5c22d5978>]"
      ]
     },
     "execution_count": 26,
     "metadata": {},
     "output_type": "execute_result"
    },
    {
     "data": {
      "image/png": "[encoded data removed]",
      "text/plain": [
       "<Figure size 432x288 with 1 Axes>"
      ]
     },
     "metadata": {
      "needs_background": "light"
     },
     "output_type": "display_data"
    }
   ],
   "source": [
    "x_plot = np.linspace(0,2,100)\n",
    "y_plot = np.array([tree_predictor(Tree,values_Tree,feature_Tree,x,max_level) for x in x_plot])\n",
    "\n",
    "plt.plot(x,y,'ob')\n",
    "plt.plot(x_plot,y_plot,'r-')"
   ]
  },
  {
   "cell_type": "code",
   "execution_count": 27,
   "metadata": {},
   "outputs": [
    {
     "data": {
      "text/plain": [
       "[<matplotlib.lines.Line2D at 0x7fc5c220d240>]"
      ]
     },
     "execution_count": 27,
     "metadata": {},
     "output_type": "execute_result"
    },
    {
     "data": {
      "image/png": "[encoded data removed]",
      "text/plain": [
       "<Figure size 432x288 with 1 Axes>"
      ]
     },
     "metadata": {
      "needs_background": "light"
     },
     "output_type": "display_data"
    }
   ],
   "source": [
    "'example 2'\n",
    "x = np.linspace(0,2*np.pi,40)\n",
    "y = np.sin(x) + 0.1*np.random.randn(40)\n",
    "plt.plot(x,y,'o')"
   ]
  },
  {
   "cell_type": "code",
   "execution_count": 28,
   "metadata": {},
   "outputs": [],
   "source": [
    "max_level = 5\n",
    "Tree,values_Tree,feature_Tree = decision_tree_regression(x,y,max_level)"
   ]
  },
  {
   "cell_type": "code",
   "execution_count": 29,
   "metadata": {
    "scrolled": false
   },
   "outputs": [
    {
     "data": {
      "text/plain": [
       "[<matplotlib.lines.Line2D at 0x7fc5c2234d30>]"
      ]
     },
     "execution_count": 29,
     "metadata": {},
     "output_type": "execute_result"
    },
    {
     "data": {
      "image/png": "[encoded data removed]",
      "text/plain": [
       "<Figure size 432x288 with 1 Axes>"
      ]
     },
     "metadata": {
      "needs_background": "light"
     },
     "output_type": "display_data"
    }
   ],
   "source": [
    "x_plot = np.linspace(0,2*np.pi,100)\n",
    "y_plot = np.array([tree_predictor(Tree,values_Tree,feature_Tree,x,max_level) for x in x_plot])\n",
    "\n",
    "plt.plot(x,y,'ob')\n",
    "plt.plot(x_plot,y_plot,'r-')"
   ]
  },
  {
   "cell_type": "code",
   "execution_count": 30,
   "metadata": {},
   "outputs": [
    {
     "data": {
      "text/plain": [
       "[<matplotlib.lines.Line2D at 0x7fc5c2606080>]"
      ]
     },
     "execution_count": 30,
     "metadata": {},
     "output_type": "execute_result"
    },
    {
     "data": {
      "image/png": "[encoded data removed]",
      "text/plain": [
       "<Figure size 432x288 with 1 Axes>"
      ]
     },
     "metadata": {
      "needs_background": "light"
     },
     "output_type": "display_data"
    }
   ],
   "source": [
    "'example 3: Trees are sensitive to noise and outliers, and are prone to overfitting'\n",
    "x = np.linspace(0,2*np.pi,80)\n",
    "y = np.sin(x)\n",
    "y[::5] += 4* (0.5 - np.random.rand(16)) #add noise to y[0], y[5], y[10],...,y[80]\n",
    "plt.plot(x,y,'o')"
   ]
  },
  {
   "cell_type": "code",
   "execution_count": 31,
   "metadata": {},
   "outputs": [
    {
     "data": {
      "text/plain": [
       "Text(0.5, 1.0, 'overfitted model')"
      ]
     },
     "execution_count": 31,
     "metadata": {},
     "output_type": "execute_result"
    },
    {
     "data": {
      "image/png": "[encoded data removed]",
      "text/plain": [
       "<Figure size 432x288 with 1 Axes>"
      ]
     },
     "metadata": {
      "needs_background": "light"
     },
     "output_type": "display_data"
    }
   ],
   "source": [
    "max_level = 10\n",
    "Tree,values_Tree,feature_Tree = decision_tree_regression(x,y,max_level)\n",
    "x_plot = np.linspace(0,2*np.pi,100)\n",
    "y_plot = np.array([tree_predictor(Tree,values_Tree,feature_Tree,x,max_level) for x in x_plot])\n",
    "plt.plot(x,y,'ob')\n",
    "plt.plot(x_plot,y_plot,'r-')\n",
    "plt.title('overfitted model',fontsize=20)"
   ]
  },
  {
   "cell_type": "markdown",
   "metadata": {},
   "source": [
    "## Random Forest"
   ]
  },
  {
   "cell_type": "markdown",
   "metadata": {},
   "source": [
    "Decision Trees are prone to overfitting"
   ]
  },
  {
   "cell_type": "code",
   "execution_count": 32,
   "metadata": {},
   "outputs": [],
   "source": [
    "'Generate 10 subsets each containing 20 data points selected randomply'\n",
    "n_subsets = 10 \n",
    "subset_size = 20\n",
    "\n",
    "x_subsets = []\n",
    "y_subsets = []\n",
    "for i in range(10):\n",
    "    idx = np.random.permutation(len(x)) #random permutation\n",
    "    x_subsets.append(x[idx[:subset_size]])\n",
    "    y_subsets.append(y[idx[:subset_size]])"
   ]
  },
  {
   "cell_type": "code",
   "execution_count": 33,
   "metadata": {},
   "outputs": [],
   "source": [
    "'Train 10 Decision Trees'\n",
    "Forest = [decision_tree_regression(x_subsets[i],y_subsets[i],max_level=10) for i in range(n_subsets)]"
   ]
  },
  {
   "cell_type": "code",
   "execution_count": 34,
   "metadata": {},
   "outputs": [],
   "source": [
    "def Forest_predictor(Forest, new_point,max_level):\n",
    "    predictions = [tree_predictor(Tree[0],Tree[1],Tree[2],new_point,max_level) for Tree in Forest] \n",
    "    return np.mean(predictions)"
   ]
  },
  {
   "cell_type": "code",
   "execution_count": 35,
   "metadata": {
    "scrolled": false
   },
   "outputs": [
    {
     "data": {
      "text/plain": [
       "[<matplotlib.lines.Line2D at 0x7fc5c2474fd0>]"
      ]
     },
     "execution_count": 35,
     "metadata": {},
     "output_type": "execute_result"
    },
    {
     "data": {
      "image/png": "[encoded data removed]",
      "text/plain": [
       "<Figure size 432x288 with 1 Axes>"
      ]
     },
     "metadata": {
      "needs_background": "light"
     },
     "output_type": "display_data"
    }
   ],
   "source": [
    "x_plot = np.linspace(0,2*np.pi,100)\n",
    "y_plot = np.array([Forest_predictor(Forest,x,max_level=10) for x in x_plot])\n",
    "plt.plot(x,y,'ob')\n",
    "plt.plot(x_plot,y_plot,'r-')"
   ]
  }
 ],
 "metadata": {
  "kernelspec": {
   "display_name": "Python 3",
   "language": "python",
   "name": "python3"
  },
  "language_info": {
   "codemirror_mode": {
    "name": "ipython",
    "version": 3
   },
   "file_extension": ".py",
   "mimetype": "text/x-python",
   "name": "python",
   "nbconvert_exporter": "python",
   "pygments_lexer": "ipython3",
   "version": "3.6.8"
  }
 },
 "nbformat": 4,
 "nbformat_minor": 2
}
