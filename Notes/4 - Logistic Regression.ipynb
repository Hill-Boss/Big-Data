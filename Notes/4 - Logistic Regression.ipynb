{
 "cells": [
  {
   "cell_type": "code",
   "execution_count": 1,
   "metadata": {},
   "outputs": [],
   "source": [
    "import numpy as np\n",
    "import pandas as pd\n",
    "import matplotlib.pyplot as plt\n",
    "import seaborn as sns"
   ]
  },
  {
   "cell_type": "markdown",
   "metadata": {},
   "source": [
    "# 4 Logistic Regression and Softmax Regression"
   ]
  },
  {
   "cell_type": "markdown",
   "metadata": {},
   "source": [
    "4.1 Logistic Regression\n",
    "\n",
    "4.2 Softmax Regression"
   ]
  },
  {
   "cell_type": "markdown",
   "metadata": {},
   "source": [
    "## 4.1 Logistic Regression"
   ]
  },
  {
   "cell_type": "markdown",
   "metadata": {},
   "source": [
    "Logistic Regression is an algorithm used for binary classification."
   ]
  },
  {
   "cell_type": "markdown",
   "metadata": {},
   "source": [
    "Logistic regression makes predictions using the formula:\n",
    "\n",
    "$$\n",
    "\\mbox{prediction} \\quad \\widehat{p} = \\sigma(x_1\\theta_1+x_2\\theta_2+\\cdots+x_n\\theta_n)\n",
    "$$\n"
   ]
  },
  {
   "cell_type": "markdown",
   "metadata": {},
   "source": [
    "The function $\\sigma$ is called the **sigmoid function** (or logistic function)\n",
    "\n",
    "$$\n",
    "\\sigma(t) = \\frac{1}{1+e^{-t}}\n",
    "$$"
   ]
  },
  {
   "cell_type": "code",
   "execution_count": 2,
   "metadata": {},
   "outputs": [],
   "source": [
    "'sigmoid function'\n",
    "def sigmoid(t):\n",
    "    return 1/(1+np.exp(-t))"
   ]
  },
  {
   "cell_type": "code",
   "execution_count": 3,
   "metadata": {},
   "outputs": [
    {
     "data": {
      "text/plain": [
       "Text(0.5, 1.0, 'Sigmoid Function')"
      ]
     },
     "execution_count": 3,
     "metadata": {},
     "output_type": "execute_result"
    },
    {
     "data": {
      "image/png": "[encoded data removed]",
      "text/plain": [
       "<Figure size 864x504 with 1 Axes>"
      ]
     },
     "metadata": {
      "needs_background": "light"
     },
     "output_type": "display_data"
    }
   ],
   "source": [
    "'plot sigmoid function'\n",
    "x_plot = np.linspace(-20,20,1000)\n",
    "y_plot = sigmoid(x_plot)\n",
    "plt.figure(figsize=(12,7))\n",
    "plt.plot(x_plot,y_plot,'r-',linewidth=5)\n",
    "plt.xlabel('t',fontsize=20)\n",
    "plt.ylabel('y',fontsize=20)\n",
    "plt.title('Sigmoid Function', fontsize=25)"
   ]
  },
  {
   "cell_type": "markdown",
   "metadata": {},
   "source": [
    "We can transform the prediction $\\widehat{y}$ to binary outcome using the rule\n",
    "\n",
    "$$\n",
    "\\widehat{y} = \\left\\{\\begin{array}{lr}\n",
    "0 & \\mbox { if }\\quad \\widehat{p}<0.5\\\\\n",
    "1 & \\mbox{ if }\\quad \\widehat{p}\\geq 0.5\n",
    "\\end{array}\\right.\n",
    "$$"
   ]
  },
  {
   "cell_type": "markdown",
   "metadata": {},
   "source": [
    "The logistic regression model is trained using the **cost function**:\n",
    "\n",
    "$$\n",
    "E(\\theta) = -\\frac{1}{m}\\sum_{i=1}^m\\left[ y_i \\log(\\widehat{p}_i)+(1-\\widehat{p}_i)\\log(1-\\widehat{p}_i) \\right]\n",
    "$$"
   ]
  },
  {
   "cell_type": "code",
   "execution_count": 4,
   "metadata": {},
   "outputs": [],
   "source": [
    "'cost function'\n",
    "def cost(y,X,theta):\n",
    "    m = len(y)\n",
    "    return -1/m*(y.T@np.log(sigmoid(X@theta))+(1-y).T@np.log(1-sigmoid(X@theta)))"
   ]
  },
  {
   "cell_type": "markdown",
   "metadata": {},
   "source": [
    "The **gradient** of the logistic regression model is given by\n",
    "\n",
    "$$\n",
    "\\nabla E(\\theta) = \\frac{1}{m} X^T(\\sigma(X\\theta)-y)\n",
    "$$"
   ]
  },
  {
   "cell_type": "markdown",
   "metadata": {},
   "source": [
    "We can train the logistic regression model using **Gradient Descent**"
   ]
  },
  {
   "cell_type": "code",
   "execution_count": 5,
   "metadata": {},
   "outputs": [],
   "source": [
    "'Logistic regression with Gradient Descent'\n",
    "def log_regression_GD(X,y,s,n_iterations):\n",
    "    m,n = X.shape\n",
    "    theta = np.random.randn(n,1)\n",
    "    E = np.zeros((n_iterations,1))\n",
    "    for i in range(n_iterations):\n",
    "        gradient = (1/m)*X.T@(sigmoid(X@theta)-y) # compute gradient\n",
    "        theta = theta - s*gradient # Gradient Descent Step\n",
    "        E[i] = cost(y,X,theta) # compute the cost function\n",
    "    return E,theta"
   ]
  },
  {
   "cell_type": "markdown",
   "metadata": {},
   "source": [
    "Let's use the iris dataset to illustrate logistic regression"
   ]
  },
  {
   "cell_type": "code",
   "execution_count": 6,
   "metadata": {},
   "outputs": [
    {
     "data": {
      "text/html": [
       "<div>\n",
       "<style scoped>\n",
       "    .dataframe tbody tr th:only-of-type {\n",
       "        vertical-align: middle;\n",
       "    }\n",
       "\n",
       "    .dataframe tbody tr th {\n",
       "        vertical-align: top;\n",
       "    }\n",
       "\n",
       "    .dataframe thead th {\n",
       "        text-align: right;\n",
       "    }\n",
       "</style>\n",
       "<table border=\"1\" class=\"dataframe\">\n",
       "  <thead>\n",
       "    <tr style=\"text-align: right;\">\n",
       "      <th></th>\n",
       "      <th>sepal length</th>\n",
       "      <th>sepal width</th>\n",
       "      <th>petal length</th>\n",
       "      <th>petal width</th>\n",
       "      <th>species</th>\n",
       "    </tr>\n",
       "  </thead>\n",
       "  <tbody>\n",
       "    <tr>\n",
       "      <th>0</th>\n",
       "      <td>5.1</td>\n",
       "      <td>3.5</td>\n",
       "      <td>1.4</td>\n",
       "      <td>0.2</td>\n",
       "      <td>Iris-setosa</td>\n",
       "    </tr>\n",
       "    <tr>\n",
       "      <th>1</th>\n",
       "      <td>4.9</td>\n",
       "      <td>3.0</td>\n",
       "      <td>1.4</td>\n",
       "      <td>0.2</td>\n",
       "      <td>Iris-setosa</td>\n",
       "    </tr>\n",
       "    <tr>\n",
       "      <th>2</th>\n",
       "      <td>4.7</td>\n",
       "      <td>3.2</td>\n",
       "      <td>1.3</td>\n",
       "      <td>0.2</td>\n",
       "      <td>Iris-setosa</td>\n",
       "    </tr>\n",
       "    <tr>\n",
       "      <th>3</th>\n",
       "      <td>4.6</td>\n",
       "      <td>3.1</td>\n",
       "      <td>1.5</td>\n",
       "      <td>0.2</td>\n",
       "      <td>Iris-setosa</td>\n",
       "    </tr>\n",
       "    <tr>\n",
       "      <th>4</th>\n",
       "      <td>5.0</td>\n",
       "      <td>3.6</td>\n",
       "      <td>1.4</td>\n",
       "      <td>0.2</td>\n",
       "      <td>Iris-setosa</td>\n",
       "    </tr>\n",
       "  </tbody>\n",
       "</table>\n",
       "</div>"
      ],
      "text/plain": [
       "   sepal length  sepal width  petal length  petal width      species\n",
       "0           5.1          3.5           1.4          0.2  Iris-setosa\n",
       "1           4.9          3.0           1.4          0.2  Iris-setosa\n",
       "2           4.7          3.2           1.3          0.2  Iris-setosa\n",
       "3           4.6          3.1           1.5          0.2  Iris-setosa\n",
       "4           5.0          3.6           1.4          0.2  Iris-setosa"
      ]
     },
     "execution_count": 6,
     "metadata": {},
     "output_type": "execute_result"
    }
   ],
   "source": [
    "url = 'https://raw.githubusercontent.com/um-perez-alvaro/lin-regress/master/iris.data'\n",
    "iris_data = pd.read_csv(url, names=['sepal length','sepal width','petal length','petal width','species'])\n",
    "iris_data.head(5) #first 5 rows"
   ]
  },
  {
   "cell_type": "markdown",
   "metadata": {},
   "source": [
    "There are three species:"
   ]
  },
  {
   "cell_type": "code",
   "execution_count": 7,
   "metadata": {},
   "outputs": [
    {
     "data": {
      "text/plain": [
       "array(['Iris-setosa', 'Iris-versicolor', 'Iris-virginica'], dtype=object)"
      ]
     },
     "execution_count": 7,
     "metadata": {},
     "output_type": "execute_result"
    }
   ],
   "source": [
    "iris_data['species'].unique()"
   ]
  },
  {
   "cell_type": "markdown",
   "metadata": {},
   "source": [
    "Let's try to build a classifier to detect the *Iris-setosa* type"
   ]
  },
  {
   "cell_type": "code",
   "execution_count": 8,
   "metadata": {},
   "outputs": [],
   "source": [
    "m = len(iris_data)\n",
    "\n",
    "'vector y'\n",
    "y = np.zeros((m,1))\n",
    "y[iris_data['species']=='Iris-setosa']=1\n",
    "\n",
    "'matrix X'\n",
    "X = iris_data.iloc[:,:4].to_numpy()"
   ]
  },
  {
   "cell_type": "code",
   "execution_count": 9,
   "metadata": {},
   "outputs": [],
   "source": [
    "n_iterations = 100\n",
    "s = .3 #learning rate\n",
    "E,theta = log_regression_GD(X,y,s,n_iterations)"
   ]
  },
  {
   "cell_type": "code",
   "execution_count": 10,
   "metadata": {},
   "outputs": [
    {
     "data": {
      "text/plain": [
       "Text(0, 0.5, 'Cost')"
      ]
     },
     "execution_count": 10,
     "metadata": {},
     "output_type": "execute_result"
    },
    {
     "data": {
      "image/png": "[encoded data removed]",
      "text/plain": [
       "<Figure size 864x504 with 1 Axes>"
      ]
     },
     "metadata": {
      "needs_background": "light"
     },
     "output_type": "display_data"
    }
   ],
   "source": [
    "plt.figure(figsize=(12,7))\n",
    "plt.plot(E,linewidth=5)\n",
    "plt.xlabel('Iteration',fontsize=20)\n",
    "plt.ylabel('Cost',fontsize=20)"
   ]
  },
  {
   "cell_type": "code",
   "execution_count": 11,
   "metadata": {},
   "outputs": [],
   "source": [
    "y_predicted = sigmoid(X@theta)"
   ]
  },
  {
   "cell_type": "code",
   "execution_count": 12,
   "metadata": {},
   "outputs": [
    {
     "data": {
      "text/plain": [
       "[<matplotlib.lines.Line2D at 0x7fb1b48ffa90>]"
      ]
     },
     "execution_count": 12,
     "metadata": {},
     "output_type": "execute_result"
    },
    {
     "data": {
      "image/png": "[encoded data removed]",
      "text/plain": [
       "<Figure size 1080x504 with 1 Axes>"
      ]
     },
     "metadata": {
      "needs_background": "light"
     },
     "output_type": "display_data"
    }
   ],
   "source": [
    "'compare y and y_predicted'\n",
    "plt.figure(figsize=(15,7))\n",
    "plt.plot(y,'ro-.')\n",
    "plt.plot(y_predicted,'bo')"
   ]
  },
  {
   "cell_type": "code",
   "execution_count": 13,
   "metadata": {},
   "outputs": [],
   "source": [
    "'species prediction'\n",
    "y_setosa = np.zeros((m,1))\n",
    "y_setosa[y_predicted>0.5]=1"
   ]
  },
  {
   "cell_type": "code",
   "execution_count": 14,
   "metadata": {},
   "outputs": [
    {
     "data": {
      "text/plain": [
       "array([[100.,   0.],\n",
       "       [  0.,  50.]])"
      ]
     },
     "execution_count": 14,
     "metadata": {},
     "output_type": "execute_result"
    }
   ],
   "source": [
    "'confusion matrix'\n",
    "C = np.zeros((2,2))\n",
    "for i in range(2):\n",
    "    for j in range(2):\n",
    "        C[i,j] = sum(y_setosa[y==i]==j)\n",
    "C"
   ]
  },
  {
   "cell_type": "markdown",
   "metadata": {},
   "source": [
    "**Another Example: Predicting Breast Cancer**"
   ]
  },
  {
   "cell_type": "code",
   "execution_count": 15,
   "metadata": {},
   "outputs": [
    {
     "data": {
      "text/html": [
       "<div>\n",
       "<style scoped>\n",
       "    .dataframe tbody tr th:only-of-type {\n",
       "        vertical-align: middle;\n",
       "    }\n",
       "\n",
       "    .dataframe tbody tr th {\n",
       "        vertical-align: top;\n",
       "    }\n",
       "\n",
       "    .dataframe thead th {\n",
       "        text-align: right;\n",
       "    }\n",
       "</style>\n",
       "<table border=\"1\" class=\"dataframe\">\n",
       "  <thead>\n",
       "    <tr style=\"text-align: right;\">\n",
       "      <th></th>\n",
       "      <th>diagnosis</th>\n",
       "      <th>radius_mean</th>\n",
       "      <th>texture_mean</th>\n",
       "      <th>perimeter_mean</th>\n",
       "      <th>area_mean</th>\n",
       "      <th>smoothness_mean</th>\n",
       "      <th>compactness_mean</th>\n",
       "      <th>concavity_mean</th>\n",
       "      <th>concave points_mean</th>\n",
       "      <th>symmetry_mean</th>\n",
       "      <th>...</th>\n",
       "      <th>texture_worst</th>\n",
       "      <th>perimeter_worst</th>\n",
       "      <th>area_worst</th>\n",
       "      <th>smoothness_worst</th>\n",
       "      <th>compactness_worst</th>\n",
       "      <th>concavity_worst</th>\n",
       "      <th>concave points_worst</th>\n",
       "      <th>symmetry_worst</th>\n",
       "      <th>fractal_dimension_worst</th>\n",
       "      <th>Unnamed: 32</th>\n",
       "    </tr>\n",
       "    <tr>\n",
       "      <th>id</th>\n",
       "      <th></th>\n",
       "      <th></th>\n",
       "      <th></th>\n",
       "      <th></th>\n",
       "      <th></th>\n",
       "      <th></th>\n",
       "      <th></th>\n",
       "      <th></th>\n",
       "      <th></th>\n",
       "      <th></th>\n",
       "      <th></th>\n",
       "      <th></th>\n",
       "      <th></th>\n",
       "      <th></th>\n",
       "      <th></th>\n",
       "      <th></th>\n",
       "      <th></th>\n",
       "      <th></th>\n",
       "      <th></th>\n",
       "      <th></th>\n",
       "      <th></th>\n",
       "    </tr>\n",
       "  </thead>\n",
       "  <tbody>\n",
       "    <tr>\n",
       "      <th>842302</th>\n",
       "      <td>M</td>\n",
       "      <td>17.99</td>\n",
       "      <td>10.38</td>\n",
       "      <td>122.80</td>\n",
       "      <td>1001.0</td>\n",
       "      <td>0.11840</td>\n",
       "      <td>0.27760</td>\n",
       "      <td>0.3001</td>\n",
       "      <td>0.14710</td>\n",
       "      <td>0.2419</td>\n",
       "      <td>...</td>\n",
       "      <td>17.33</td>\n",
       "      <td>184.60</td>\n",
       "      <td>2019.0</td>\n",
       "      <td>0.1622</td>\n",
       "      <td>0.6656</td>\n",
       "      <td>0.7119</td>\n",
       "      <td>0.2654</td>\n",
       "      <td>0.4601</td>\n",
       "      <td>0.11890</td>\n",
       "      <td>NaN</td>\n",
       "    </tr>\n",
       "    <tr>\n",
       "      <th>842517</th>\n",
       "      <td>M</td>\n",
       "      <td>20.57</td>\n",
       "      <td>17.77</td>\n",
       "      <td>132.90</td>\n",
       "      <td>1326.0</td>\n",
       "      <td>0.08474</td>\n",
       "      <td>0.07864</td>\n",
       "      <td>0.0869</td>\n",
       "      <td>0.07017</td>\n",
       "      <td>0.1812</td>\n",
       "      <td>...</td>\n",
       "      <td>23.41</td>\n",
       "      <td>158.80</td>\n",
       "      <td>1956.0</td>\n",
       "      <td>0.1238</td>\n",
       "      <td>0.1866</td>\n",
       "      <td>0.2416</td>\n",
       "      <td>0.1860</td>\n",
       "      <td>0.2750</td>\n",
       "      <td>0.08902</td>\n",
       "      <td>NaN</td>\n",
       "    </tr>\n",
       "    <tr>\n",
       "      <th>84300903</th>\n",
       "      <td>M</td>\n",
       "      <td>19.69</td>\n",
       "      <td>21.25</td>\n",
       "      <td>130.00</td>\n",
       "      <td>1203.0</td>\n",
       "      <td>0.10960</td>\n",
       "      <td>0.15990</td>\n",
       "      <td>0.1974</td>\n",
       "      <td>0.12790</td>\n",
       "      <td>0.2069</td>\n",
       "      <td>...</td>\n",
       "      <td>25.53</td>\n",
       "      <td>152.50</td>\n",
       "      <td>1709.0</td>\n",
       "      <td>0.1444</td>\n",
       "      <td>0.4245</td>\n",
       "      <td>0.4504</td>\n",
       "      <td>0.2430</td>\n",
       "      <td>0.3613</td>\n",
       "      <td>0.08758</td>\n",
       "      <td>NaN</td>\n",
       "    </tr>\n",
       "    <tr>\n",
       "      <th>84348301</th>\n",
       "      <td>M</td>\n",
       "      <td>11.42</td>\n",
       "      <td>20.38</td>\n",
       "      <td>77.58</td>\n",
       "      <td>386.1</td>\n",
       "      <td>0.14250</td>\n",
       "      <td>0.28390</td>\n",
       "      <td>0.2414</td>\n",
       "      <td>0.10520</td>\n",
       "      <td>0.2597</td>\n",
       "      <td>...</td>\n",
       "      <td>26.50</td>\n",
       "      <td>98.87</td>\n",
       "      <td>567.7</td>\n",
       "      <td>0.2098</td>\n",
       "      <td>0.8663</td>\n",
       "      <td>0.6869</td>\n",
       "      <td>0.2575</td>\n",
       "      <td>0.6638</td>\n",
       "      <td>0.17300</td>\n",
       "      <td>NaN</td>\n",
       "    </tr>\n",
       "    <tr>\n",
       "      <th>84358402</th>\n",
       "      <td>M</td>\n",
       "      <td>20.29</td>\n",
       "      <td>14.34</td>\n",
       "      <td>135.10</td>\n",
       "      <td>1297.0</td>\n",
       "      <td>0.10030</td>\n",
       "      <td>0.13280</td>\n",
       "      <td>0.1980</td>\n",
       "      <td>0.10430</td>\n",
       "      <td>0.1809</td>\n",
       "      <td>...</td>\n",
       "      <td>16.67</td>\n",
       "      <td>152.20</td>\n",
       "      <td>1575.0</td>\n",
       "      <td>0.1374</td>\n",
       "      <td>0.2050</td>\n",
       "      <td>0.4000</td>\n",
       "      <td>0.1625</td>\n",
       "      <td>0.2364</td>\n",
       "      <td>0.07678</td>\n",
       "      <td>NaN</td>\n",
       "    </tr>\n",
       "  </tbody>\n",
       "</table>\n",
       "<p>5 rows × 32 columns</p>\n",
       "</div>"
      ],
      "text/plain": [
       "         diagnosis  radius_mean  texture_mean  perimeter_mean  area_mean  \\\n",
       "id                                                                         \n",
       "842302           M        17.99         10.38          122.80     1001.0   \n",
       "842517           M        20.57         17.77          132.90     1326.0   \n",
       "84300903         M        19.69         21.25          130.00     1203.0   \n",
       "84348301         M        11.42         20.38           77.58      386.1   \n",
       "84358402         M        20.29         14.34          135.10     1297.0   \n",
       "\n",
       "          smoothness_mean  compactness_mean  concavity_mean  \\\n",
       "id                                                            \n",
       "842302            0.11840           0.27760          0.3001   \n",
       "842517            0.08474           0.07864          0.0869   \n",
       "84300903          0.10960           0.15990          0.1974   \n",
       "84348301          0.14250           0.28390          0.2414   \n",
       "84358402          0.10030           0.13280          0.1980   \n",
       "\n",
       "          concave points_mean  symmetry_mean  ...  texture_worst  \\\n",
       "id                                            ...                  \n",
       "842302                0.14710         0.2419  ...          17.33   \n",
       "842517                0.07017         0.1812  ...          23.41   \n",
       "84300903              0.12790         0.2069  ...          25.53   \n",
       "84348301              0.10520         0.2597  ...          26.50   \n",
       "84358402              0.10430         0.1809  ...          16.67   \n",
       "\n",
       "          perimeter_worst  area_worst  smoothness_worst  compactness_worst  \\\n",
       "id                                                                           \n",
       "842302             184.60      2019.0            0.1622             0.6656   \n",
       "842517             158.80      1956.0            0.1238             0.1866   \n",
       "84300903           152.50      1709.0            0.1444             0.4245   \n",
       "84348301            98.87       567.7            0.2098             0.8663   \n",
       "84358402           152.20      1575.0            0.1374             0.2050   \n",
       "\n",
       "          concavity_worst  concave points_worst  symmetry_worst  \\\n",
       "id                                                                \n",
       "842302             0.7119                0.2654          0.4601   \n",
       "842517             0.2416                0.1860          0.2750   \n",
       "84300903           0.4504                0.2430          0.3613   \n",
       "84348301           0.6869                0.2575          0.6638   \n",
       "84358402           0.4000                0.1625          0.2364   \n",
       "\n",
       "          fractal_dimension_worst  Unnamed: 32  \n",
       "id                                              \n",
       "842302                    0.11890          NaN  \n",
       "842517                    0.08902          NaN  \n",
       "84300903                  0.08758          NaN  \n",
       "84348301                  0.17300          NaN  \n",
       "84358402                  0.07678          NaN  \n",
       "\n",
       "[5 rows x 32 columns]"
      ]
     },
     "execution_count": 15,
     "metadata": {},
     "output_type": "execute_result"
    }
   ],
   "source": [
    "'from https://archive.ics.uci.edu'\n",
    "'Breast Cancer Wisconsin (Diagnostic) Data Set'\n",
    "\n",
    "url = 'https://raw.githubusercontent.com/um-perez-alvaro/log-regress/master/cancer.csv'\n",
    "data_cancer = pd.read_csv(url,index_col=0)\n",
    "data_cancer.head(5)"
   ]
  },
  {
   "cell_type": "code",
   "execution_count": 16,
   "metadata": {},
   "outputs": [
    {
     "data": {
      "text/plain": [
       "array(['M', 'B'], dtype=object)"
      ]
     },
     "execution_count": 16,
     "metadata": {},
     "output_type": "execute_result"
    }
   ],
   "source": [
    "'M: Malignant'\n",
    "'B: Benign' \n",
    "data_cancer['diagnosis'].unique()"
   ]
  },
  {
   "cell_type": "code",
   "execution_count": 17,
   "metadata": {},
   "outputs": [
    {
     "data": {
      "text/plain": [
       "Index(['diagnosis', 'radius_mean', 'texture_mean', 'perimeter_mean',\n",
       "       'area_mean', 'smoothness_mean', 'compactness_mean', 'concavity_mean',\n",
       "       'concave points_mean', 'symmetry_mean', 'fractal_dimension_mean',\n",
       "       'radius_se', 'texture_se', 'perimeter_se', 'area_se', 'smoothness_se',\n",
       "       'compactness_se', 'concavity_se', 'concave points_se', 'symmetry_se',\n",
       "       'fractal_dimension_se', 'radius_worst', 'texture_worst',\n",
       "       'perimeter_worst', 'area_worst', 'smoothness_worst',\n",
       "       'compactness_worst', 'concavity_worst', 'concave points_worst',\n",
       "       'symmetry_worst', 'fractal_dimension_worst', 'Unnamed: 32'],\n",
       "      dtype='object')"
      ]
     },
     "execution_count": 17,
     "metadata": {},
     "output_type": "execute_result"
    }
   ],
   "source": [
    "'features: breast tumor cells features'\n",
    "'10 features; for each feature: mean, standard error, worst (largest)'\n",
    "data_cancer.columns"
   ]
  },
  {
   "cell_type": "code",
   "execution_count": 18,
   "metadata": {},
   "outputs": [
    {
     "data": {
      "text/plain": [
       "<seaborn.axisgrid.PairGrid at 0x7fb1b49f3e80>"
      ]
     },
     "execution_count": 18,
     "metadata": {},
     "output_type": "execute_result"
    },
    {
     "data": {
      "image/png": "[encoded data removed]",
      "text/plain": [
       "<Figure size 775.5x720 with 20 Axes>"
      ]
     },
     "metadata": {
      "needs_background": "light"
     },
     "output_type": "display_data"
    }
   ],
   "source": [
    "sns.pairplot(data=data_cancer.iloc[:,:5],hue='diagnosis')"
   ]
  },
  {
   "cell_type": "code",
   "execution_count": 19,
   "metadata": {},
   "outputs": [
    {
     "data": {
      "text/html": [
       "<div>\n",
       "<style scoped>\n",
       "    .dataframe tbody tr th:only-of-type {\n",
       "        vertical-align: middle;\n",
       "    }\n",
       "\n",
       "    .dataframe tbody tr th {\n",
       "        vertical-align: top;\n",
       "    }\n",
       "\n",
       "    .dataframe thead th {\n",
       "        text-align: right;\n",
       "    }\n",
       "</style>\n",
       "<table border=\"1\" class=\"dataframe\">\n",
       "  <thead>\n",
       "    <tr style=\"text-align: right;\">\n",
       "      <th></th>\n",
       "      <th>radius_mean</th>\n",
       "      <th>texture_mean</th>\n",
       "      <th>perimeter_mean</th>\n",
       "      <th>area_mean</th>\n",
       "      <th>smoothness_mean</th>\n",
       "      <th>compactness_mean</th>\n",
       "      <th>concavity_mean</th>\n",
       "      <th>concave points_mean</th>\n",
       "      <th>symmetry_mean</th>\n",
       "      <th>fractal_dimension_mean</th>\n",
       "    </tr>\n",
       "    <tr>\n",
       "      <th>id</th>\n",
       "      <th></th>\n",
       "      <th></th>\n",
       "      <th></th>\n",
       "      <th></th>\n",
       "      <th></th>\n",
       "      <th></th>\n",
       "      <th></th>\n",
       "      <th></th>\n",
       "      <th></th>\n",
       "      <th></th>\n",
       "    </tr>\n",
       "  </thead>\n",
       "  <tbody>\n",
       "    <tr>\n",
       "      <th>842302</th>\n",
       "      <td>17.99</td>\n",
       "      <td>10.38</td>\n",
       "      <td>122.80</td>\n",
       "      <td>1001.0</td>\n",
       "      <td>0.11840</td>\n",
       "      <td>0.27760</td>\n",
       "      <td>0.3001</td>\n",
       "      <td>0.14710</td>\n",
       "      <td>0.2419</td>\n",
       "      <td>0.07871</td>\n",
       "    </tr>\n",
       "    <tr>\n",
       "      <th>842517</th>\n",
       "      <td>20.57</td>\n",
       "      <td>17.77</td>\n",
       "      <td>132.90</td>\n",
       "      <td>1326.0</td>\n",
       "      <td>0.08474</td>\n",
       "      <td>0.07864</td>\n",
       "      <td>0.0869</td>\n",
       "      <td>0.07017</td>\n",
       "      <td>0.1812</td>\n",
       "      <td>0.05667</td>\n",
       "    </tr>\n",
       "    <tr>\n",
       "      <th>84300903</th>\n",
       "      <td>19.69</td>\n",
       "      <td>21.25</td>\n",
       "      <td>130.00</td>\n",
       "      <td>1203.0</td>\n",
       "      <td>0.10960</td>\n",
       "      <td>0.15990</td>\n",
       "      <td>0.1974</td>\n",
       "      <td>0.12790</td>\n",
       "      <td>0.2069</td>\n",
       "      <td>0.05999</td>\n",
       "    </tr>\n",
       "    <tr>\n",
       "      <th>84348301</th>\n",
       "      <td>11.42</td>\n",
       "      <td>20.38</td>\n",
       "      <td>77.58</td>\n",
       "      <td>386.1</td>\n",
       "      <td>0.14250</td>\n",
       "      <td>0.28390</td>\n",
       "      <td>0.2414</td>\n",
       "      <td>0.10520</td>\n",
       "      <td>0.2597</td>\n",
       "      <td>0.09744</td>\n",
       "    </tr>\n",
       "    <tr>\n",
       "      <th>84358402</th>\n",
       "      <td>20.29</td>\n",
       "      <td>14.34</td>\n",
       "      <td>135.10</td>\n",
       "      <td>1297.0</td>\n",
       "      <td>0.10030</td>\n",
       "      <td>0.13280</td>\n",
       "      <td>0.1980</td>\n",
       "      <td>0.10430</td>\n",
       "      <td>0.1809</td>\n",
       "      <td>0.05883</td>\n",
       "    </tr>\n",
       "  </tbody>\n",
       "</table>\n",
       "</div>"
      ],
      "text/plain": [
       "          radius_mean  texture_mean  perimeter_mean  area_mean  \\\n",
       "id                                                               \n",
       "842302          17.99         10.38          122.80     1001.0   \n",
       "842517          20.57         17.77          132.90     1326.0   \n",
       "84300903        19.69         21.25          130.00     1203.0   \n",
       "84348301        11.42         20.38           77.58      386.1   \n",
       "84358402        20.29         14.34          135.10     1297.0   \n",
       "\n",
       "          smoothness_mean  compactness_mean  concavity_mean  \\\n",
       "id                                                            \n",
       "842302            0.11840           0.27760          0.3001   \n",
       "842517            0.08474           0.07864          0.0869   \n",
       "84300903          0.10960           0.15990          0.1974   \n",
       "84348301          0.14250           0.28390          0.2414   \n",
       "84358402          0.10030           0.13280          0.1980   \n",
       "\n",
       "          concave points_mean  symmetry_mean  fractal_dimension_mean  \n",
       "id                                                                    \n",
       "842302                0.14710         0.2419                 0.07871  \n",
       "842517                0.07017         0.1812                 0.05667  \n",
       "84300903              0.12790         0.2069                 0.05999  \n",
       "84348301              0.10520         0.2597                 0.09744  \n",
       "84358402              0.10430         0.1809                 0.05883  "
      ]
     },
     "execution_count": 19,
     "metadata": {},
     "output_type": "execute_result"
    }
   ],
   "source": [
    "diagnosis = data_cancer['diagnosis']\n",
    "data_cancer = data_cancer.iloc[:,1:11] #use only first 10 features\n",
    "data_cancer.head(5)"
   ]
  },
  {
   "cell_type": "code",
   "execution_count": 20,
   "metadata": {},
   "outputs": [
    {
     "data": {
      "text/html": [
       "<div>\n",
       "<style scoped>\n",
       "    .dataframe tbody tr th:only-of-type {\n",
       "        vertical-align: middle;\n",
       "    }\n",
       "\n",
       "    .dataframe tbody tr th {\n",
       "        vertical-align: top;\n",
       "    }\n",
       "\n",
       "    .dataframe thead th {\n",
       "        text-align: right;\n",
       "    }\n",
       "</style>\n",
       "<table border=\"1\" class=\"dataframe\">\n",
       "  <thead>\n",
       "    <tr style=\"text-align: right;\">\n",
       "      <th></th>\n",
       "      <th>radius_mean</th>\n",
       "      <th>texture_mean</th>\n",
       "      <th>perimeter_mean</th>\n",
       "      <th>area_mean</th>\n",
       "      <th>smoothness_mean</th>\n",
       "      <th>compactness_mean</th>\n",
       "      <th>concavity_mean</th>\n",
       "      <th>concave points_mean</th>\n",
       "      <th>symmetry_mean</th>\n",
       "      <th>fractal_dimension_mean</th>\n",
       "    </tr>\n",
       "    <tr>\n",
       "      <th>id</th>\n",
       "      <th></th>\n",
       "      <th></th>\n",
       "      <th></th>\n",
       "      <th></th>\n",
       "      <th></th>\n",
       "      <th></th>\n",
       "      <th></th>\n",
       "      <th></th>\n",
       "      <th></th>\n",
       "      <th></th>\n",
       "    </tr>\n",
       "  </thead>\n",
       "  <tbody>\n",
       "    <tr>\n",
       "      <th>842302</th>\n",
       "      <td>1.096100</td>\n",
       "      <td>-2.071512</td>\n",
       "      <td>1.268817</td>\n",
       "      <td>0.983510</td>\n",
       "      <td>1.567087</td>\n",
       "      <td>3.280628</td>\n",
       "      <td>2.650542</td>\n",
       "      <td>2.530249</td>\n",
       "      <td>2.215566</td>\n",
       "      <td>2.253764</td>\n",
       "    </tr>\n",
       "    <tr>\n",
       "      <th>842517</th>\n",
       "      <td>1.828212</td>\n",
       "      <td>-0.353322</td>\n",
       "      <td>1.684473</td>\n",
       "      <td>1.907030</td>\n",
       "      <td>-0.826235</td>\n",
       "      <td>-0.486643</td>\n",
       "      <td>-0.023825</td>\n",
       "      <td>0.547662</td>\n",
       "      <td>0.001391</td>\n",
       "      <td>-0.867889</td>\n",
       "    </tr>\n",
       "    <tr>\n",
       "      <th>84300903</th>\n",
       "      <td>1.578499</td>\n",
       "      <td>0.455786</td>\n",
       "      <td>1.565126</td>\n",
       "      <td>1.557513</td>\n",
       "      <td>0.941382</td>\n",
       "      <td>1.052000</td>\n",
       "      <td>1.362280</td>\n",
       "      <td>2.035440</td>\n",
       "      <td>0.938859</td>\n",
       "      <td>-0.397658</td>\n",
       "    </tr>\n",
       "    <tr>\n",
       "      <th>84348301</th>\n",
       "      <td>-0.768233</td>\n",
       "      <td>0.253509</td>\n",
       "      <td>-0.592166</td>\n",
       "      <td>-0.763792</td>\n",
       "      <td>3.280667</td>\n",
       "      <td>3.399917</td>\n",
       "      <td>1.914213</td>\n",
       "      <td>1.450431</td>\n",
       "      <td>2.864862</td>\n",
       "      <td>4.906602</td>\n",
       "    </tr>\n",
       "    <tr>\n",
       "      <th>84358402</th>\n",
       "      <td>1.748758</td>\n",
       "      <td>-1.150804</td>\n",
       "      <td>1.775011</td>\n",
       "      <td>1.824624</td>\n",
       "      <td>0.280125</td>\n",
       "      <td>0.538866</td>\n",
       "      <td>1.369806</td>\n",
       "      <td>1.427237</td>\n",
       "      <td>-0.009552</td>\n",
       "      <td>-0.561956</td>\n",
       "    </tr>\n",
       "  </tbody>\n",
       "</table>\n",
       "</div>"
      ],
      "text/plain": [
       "          radius_mean  texture_mean  perimeter_mean  area_mean  \\\n",
       "id                                                               \n",
       "842302       1.096100     -2.071512        1.268817   0.983510   \n",
       "842517       1.828212     -0.353322        1.684473   1.907030   \n",
       "84300903     1.578499      0.455786        1.565126   1.557513   \n",
       "84348301    -0.768233      0.253509       -0.592166  -0.763792   \n",
       "84358402     1.748758     -1.150804        1.775011   1.824624   \n",
       "\n",
       "          smoothness_mean  compactness_mean  concavity_mean  \\\n",
       "id                                                            \n",
       "842302           1.567087          3.280628        2.650542   \n",
       "842517          -0.826235         -0.486643       -0.023825   \n",
       "84300903         0.941382          1.052000        1.362280   \n",
       "84348301         3.280667          3.399917        1.914213   \n",
       "84358402         0.280125          0.538866        1.369806   \n",
       "\n",
       "          concave points_mean  symmetry_mean  fractal_dimension_mean  \n",
       "id                                                                    \n",
       "842302               2.530249       2.215566                2.253764  \n",
       "842517               0.547662       0.001391               -0.867889  \n",
       "84300903             2.035440       0.938859               -0.397658  \n",
       "84348301             1.450431       2.864862                4.906602  \n",
       "84358402             1.427237      -0.009552               -0.561956  "
      ]
     },
     "execution_count": 20,
     "metadata": {},
     "output_type": "execute_result"
    }
   ],
   "source": [
    "'scale features: Gradient Descent works better if we scale the features'\n",
    "means = data_cancer.mean() # mean of each feature\n",
    "stds = data_cancer.std() # standard deviation of each feature\n",
    "scaled_data_cancer = (data_cancer-means)/stds #subtract the mean, divide by the standard deviation\n",
    "scaled_data_cancer.head(5)"
   ]
  },
  {
   "cell_type": "code",
   "execution_count": 21,
   "metadata": {},
   "outputs": [
    {
     "data": {
      "text/plain": [
       "<matplotlib.legend.Legend at 0x7fb1b17100b8>"
      ]
     },
     "execution_count": 21,
     "metadata": {},
     "output_type": "execute_result"
    },
    {
     "data": {
      "image/png": "[encoded data removed]",
      "text/plain": [
       "<Figure size 864x504 with 1 Axes>"
      ]
     },
     "metadata": {
      "needs_background": "light"
     },
     "output_type": "display_data"
    }
   ],
   "source": [
    "m = len(data_cancer)\n",
    "\n",
    "'the vector y'\n",
    "y = np.zeros((m,1))\n",
    "y[diagnosis=='M']=1\n",
    "plt.figure(figsize=(12,7))\n",
    "plt.plot(np.sort(y,axis=0),'ro', label = 'observed')\n",
    "plt.legend(fontsize=20)"
   ]
  },
  {
   "cell_type": "code",
   "execution_count": 22,
   "metadata": {},
   "outputs": [
    {
     "data": {
      "text/plain": [
       "(569, 10)"
      ]
     },
     "execution_count": 22,
     "metadata": {},
     "output_type": "execute_result"
    }
   ],
   "source": [
    "'the matrix X'\n",
    "X = scaled_data_cancer.iloc[:,:10].to_numpy()\n",
    "X.shape"
   ]
  },
  {
   "cell_type": "code",
   "execution_count": 23,
   "metadata": {},
   "outputs": [
    {
     "data": {
      "text/plain": [
       "Text(0, 0.5, 'Cost')"
      ]
     },
     "execution_count": 23,
     "metadata": {},
     "output_type": "execute_result"
    },
    {
     "data": {
      "image/png": "[encoded data removed]",
      "text/plain": [
       "<Figure size 864x504 with 1 Axes>"
      ]
     },
     "metadata": {
      "needs_background": "light"
     },
     "output_type": "display_data"
    }
   ],
   "source": [
    "n_iterations = 2000\n",
    "s = 1 #learning rate\n",
    "E,theta = log_regression_GD(X,y,s,n_iterations)\n",
    "\n",
    "plt.figure(figsize=(12,7))\n",
    "plt.plot(E,linewidth=5)\n",
    "plt.xlabel('Iteration',fontsize=20)\n",
    "plt.ylabel('Cost',fontsize=20)"
   ]
  },
  {
   "cell_type": "code",
   "execution_count": 24,
   "metadata": {},
   "outputs": [
    {
     "data": {
      "text/plain": [
       "<matplotlib.legend.Legend at 0x7fb1b0392048>"
      ]
     },
     "execution_count": 24,
     "metadata": {},
     "output_type": "execute_result"
    },
    {
     "data": {
      "image/png": "[encoded data removed]",
      "text/plain": [
       "<Figure size 1080x504 with 1 Axes>"
      ]
     },
     "metadata": {
      "needs_background": "light"
     },
     "output_type": "display_data"
    }
   ],
   "source": [
    "y_predicted = sigmoid(X@theta)\n",
    "\n",
    "plt.figure(figsize=(15,7))\n",
    "plt.plot(np.sort(y,axis=0),'ro',label='observed')\n",
    "plt.plot(y_predicted[(np.argsort(y,axis=0)).flatten()],'bo',label = 'predicted')\n",
    "plt.legend(fontsize=20)"
   ]
  },
  {
   "cell_type": "code",
   "execution_count": 25,
   "metadata": {},
   "outputs": [],
   "source": [
    "'predictor function'\n",
    "def predictor(y,p):\n",
    "    n = len(y)\n",
    "    yy = np.zeros((n,1))\n",
    "    yy[y>=p]=1\n",
    "    return yy"
   ]
  },
  {
   "cell_type": "code",
   "execution_count": 26,
   "metadata": {},
   "outputs": [],
   "source": [
    "p = 0.5\n",
    "predictions = predictor(y_predicted,p)"
   ]
  },
  {
   "cell_type": "code",
   "execution_count": 27,
   "metadata": {},
   "outputs": [
    {
     "data": {
      "text/plain": [
       "array([[194.,  17.],\n",
       "       [ 18., 340.]])"
      ]
     },
     "execution_count": 27,
     "metadata": {},
     "output_type": "execute_result"
    }
   ],
   "source": [
    "'confusion matrix'\n",
    "C = np.zeros((2,2))\n",
    "'observed M; predicted M'\n",
    "C[0,0] = sum(predictions[y==1]==1)\n",
    "'observed M; predicted B'\n",
    "C[1,0] = sum(predictions[y==1]==0)\n",
    "'observed B; predicted M'\n",
    "C[0,1] = sum(predictions[y==0]==1)\n",
    "'observed B; predicted B'\n",
    "C[1,1] = sum(predictions[y==0]==0)\n",
    "\n",
    "C"
   ]
  },
  {
   "cell_type": "markdown",
   "metadata": {},
   "source": [
    "## 4.2 Softmax Regression"
   ]
  },
  {
   "cell_type": "markdown",
   "metadata": {},
   "source": [
    "Softmax regression is a generalization of logistic regression to the case where we want to handle multiple classes ($k$ classes)"
   ]
  },
  {
   "cell_type": "code",
   "execution_count": 28,
   "metadata": {},
   "outputs": [],
   "source": [
    "def softmax(X,theta):\n",
    "    m,n = X.shape\n",
    "    _,k = theta.shape\n",
    "    Y = np.exp(X@theta)\n",
    "    d = np.linalg.norm(Y,ord=1,axis=1) # with ord=1, it computes 1-norm\n",
    "    return np.diag(1/d)@Y"
   ]
  },
  {
   "cell_type": "code",
   "execution_count": 29,
   "metadata": {},
   "outputs": [
    {
     "data": {
      "text/plain": [
       "array([[0.38199162, 0.61800838],\n",
       "       [0.72401529, 0.27598471],\n",
       "       [0.7713593 , 0.2286407 ],\n",
       "       [0.66866004, 0.33133996],\n",
       "       [0.34458747, 0.65541253]])"
      ]
     },
     "execution_count": 29,
     "metadata": {},
     "output_type": "execute_result"
    }
   ],
   "source": [
    "'example; notice that the entries of each row add to 1'\n",
    "X = np.random.randn(5,3)\n",
    "theta = np.random.randn(3,2)\n",
    "Yhat = softmax(X,theta)\n",
    "Yhat"
   ]
  },
  {
   "cell_type": "code",
   "execution_count": 30,
   "metadata": {},
   "outputs": [],
   "source": [
    "def cost_softmax(X,theta,Y):\n",
    "    m,n = X.shape\n",
    "    _,k = theta.shape\n",
    "    cost = 0\n",
    "    Yhat = softmax(X,theta)\n",
    "    for i in range(m):\n",
    "        for j in range(k):\n",
    "            cost = cost + Y[i,j]*np.log(Yhat[i,j])\n",
    "    # alternative formula: cost = np.trace(Y.T@np.log(Yhat))\n",
    "    return (-1/m)*cost"
   ]
  },
  {
   "cell_type": "code",
   "execution_count": 31,
   "metadata": {},
   "outputs": [],
   "source": [
    "def softmax_regression_GD(X,y,s,n_iterations):\n",
    "    m,n = X.shape\n",
    "    _,k = Y.shape\n",
    "    theta = np.random.randn(n,k)\n",
    "    E = np.zeros((n_iterations,1))\n",
    "    for i in range(n_iterations):\n",
    "        gradient = (1/m)*X.T@(softmax(X,theta)-Y)\n",
    "        theta = theta - s * gradient\n",
    "        E[i] = cost_softmax(X,theta,Y)\n",
    "    return E,theta"
   ]
  },
  {
   "cell_type": "code",
   "execution_count": 32,
   "metadata": {},
   "outputs": [
    {
     "data": {
      "text/html": [
       "<div>\n",
       "<style scoped>\n",
       "    .dataframe tbody tr th:only-of-type {\n",
       "        vertical-align: middle;\n",
       "    }\n",
       "\n",
       "    .dataframe tbody tr th {\n",
       "        vertical-align: top;\n",
       "    }\n",
       "\n",
       "    .dataframe thead th {\n",
       "        text-align: right;\n",
       "    }\n",
       "</style>\n",
       "<table border=\"1\" class=\"dataframe\">\n",
       "  <thead>\n",
       "    <tr style=\"text-align: right;\">\n",
       "      <th></th>\n",
       "      <th>sepal length</th>\n",
       "      <th>sepal width</th>\n",
       "      <th>petal length</th>\n",
       "      <th>petal width</th>\n",
       "      <th>species</th>\n",
       "    </tr>\n",
       "  </thead>\n",
       "  <tbody>\n",
       "    <tr>\n",
       "      <th>0</th>\n",
       "      <td>5.1</td>\n",
       "      <td>3.5</td>\n",
       "      <td>1.4</td>\n",
       "      <td>0.2</td>\n",
       "      <td>Iris-setosa</td>\n",
       "    </tr>\n",
       "    <tr>\n",
       "      <th>1</th>\n",
       "      <td>4.9</td>\n",
       "      <td>3.0</td>\n",
       "      <td>1.4</td>\n",
       "      <td>0.2</td>\n",
       "      <td>Iris-setosa</td>\n",
       "    </tr>\n",
       "    <tr>\n",
       "      <th>2</th>\n",
       "      <td>4.7</td>\n",
       "      <td>3.2</td>\n",
       "      <td>1.3</td>\n",
       "      <td>0.2</td>\n",
       "      <td>Iris-setosa</td>\n",
       "    </tr>\n",
       "    <tr>\n",
       "      <th>3</th>\n",
       "      <td>4.6</td>\n",
       "      <td>3.1</td>\n",
       "      <td>1.5</td>\n",
       "      <td>0.2</td>\n",
       "      <td>Iris-setosa</td>\n",
       "    </tr>\n",
       "    <tr>\n",
       "      <th>4</th>\n",
       "      <td>5.0</td>\n",
       "      <td>3.6</td>\n",
       "      <td>1.4</td>\n",
       "      <td>0.2</td>\n",
       "      <td>Iris-setosa</td>\n",
       "    </tr>\n",
       "  </tbody>\n",
       "</table>\n",
       "</div>"
      ],
      "text/plain": [
       "   sepal length  sepal width  petal length  petal width      species\n",
       "0           5.1          3.5           1.4          0.2  Iris-setosa\n",
       "1           4.9          3.0           1.4          0.2  Iris-setosa\n",
       "2           4.7          3.2           1.3          0.2  Iris-setosa\n",
       "3           4.6          3.1           1.5          0.2  Iris-setosa\n",
       "4           5.0          3.6           1.4          0.2  Iris-setosa"
      ]
     },
     "execution_count": 32,
     "metadata": {},
     "output_type": "execute_result"
    }
   ],
   "source": [
    "url = 'https://raw.githubusercontent.com/um-perez-alvaro/lin-regress/master/iris.data'\n",
    "iris_data = pd.read_csv(url, names=['sepal length','sepal width','petal length','petal width','species'])\n",
    "iris_data.head(5) #first 5 rows"
   ]
  },
  {
   "cell_type": "code",
   "execution_count": 33,
   "metadata": {},
   "outputs": [
    {
     "data": {
      "text/plain": [
       "(150, 4)"
      ]
     },
     "execution_count": 33,
     "metadata": {},
     "output_type": "execute_result"
    }
   ],
   "source": [
    "X = iris_data.iloc[:,0:4].to_numpy()\n",
    "m,n = X.shape\n",
    "m,n"
   ]
  },
  {
   "cell_type": "code",
   "execution_count": 34,
   "metadata": {},
   "outputs": [
    {
     "data": {
      "text/plain": [
       "array(['Iris-setosa', 'Iris-versicolor', 'Iris-virginica'], dtype=object)"
      ]
     },
     "execution_count": 34,
     "metadata": {},
     "output_type": "execute_result"
    }
   ],
   "source": [
    "iris_data['species'].unique() # k = 3"
   ]
  },
  {
   "cell_type": "code",
   "execution_count": 35,
   "metadata": {},
   "outputs": [],
   "source": [
    "k = 3 #three classes\n",
    "Y = np.zeros((m,k))\n",
    "'column 0'\n",
    "Y[iris_data['species']=='Iris-setosa',0]=1\n",
    "'column 1'\n",
    "Y[iris_data['species']=='Iris-versicolor',1]=1\n",
    "'column 2'\n",
    "Y[iris_data['species']=='Iris-virginica',2]=1"
   ]
  },
  {
   "cell_type": "code",
   "execution_count": 36,
   "metadata": {},
   "outputs": [],
   "source": [
    "y = np.zeros((m,1))\n",
    "y[iris_data['species']=='Iris-versicolor']=1\n",
    "y[iris_data['species']=='Iris-virginica']=2"
   ]
  },
  {
   "cell_type": "code",
   "execution_count": 37,
   "metadata": {},
   "outputs": [
    {
     "data": {
      "text/plain": [
       "[<matplotlib.lines.Line2D at 0x7fb1b037a7f0>]"
      ]
     },
     "execution_count": 37,
     "metadata": {},
     "output_type": "execute_result"
    },
    {
     "data": {
      "image/png": "[encoded data removed]",
      "text/plain": [
       "<Figure size 432x288 with 1 Axes>"
      ]
     },
     "metadata": {
      "needs_background": "light"
     },
     "output_type": "display_data"
    }
   ],
   "source": [
    "s = 0.1\n",
    "n_iterations = 1000\n",
    "E,theta = softmax_regression_GD(X,Y,s,n_iterations)\n",
    "plt.plot(E)"
   ]
  },
  {
   "cell_type": "code",
   "execution_count": 38,
   "metadata": {},
   "outputs": [
    {
     "data": {
      "text/plain": [
       "array([[0.991, 0.009, 0.   ],\n",
       "       [0.97 , 0.03 , 0.   ],\n",
       "       [0.985, 0.015, 0.   ],\n",
       "       [0.969, 0.031, 0.   ],\n",
       "       [0.993, 0.007, 0.   ],\n",
       "       [0.992, 0.008, 0.   ],\n",
       "       [0.988, 0.012, 0.   ],\n",
       "       [0.985, 0.015, 0.   ],\n",
       "       [0.962, 0.038, 0.   ],\n",
       "       [0.969, 0.031, 0.   ],\n",
       "       [0.992, 0.008, 0.   ],\n",
       "       [0.98 , 0.02 , 0.   ],\n",
       "       [0.97 , 0.03 , 0.   ],\n",
       "       [0.986, 0.014, 0.   ],\n",
       "       [0.998, 0.002, 0.   ],\n",
       "       [0.999, 0.001, 0.   ],\n",
       "       [0.997, 0.003, 0.   ],\n",
       "       [0.991, 0.009, 0.   ],\n",
       "       [0.99 , 0.01 , 0.   ],\n",
       "       [0.994, 0.006, 0.   ],\n",
       "       [0.974, 0.026, 0.   ],\n",
       "       [0.992, 0.008, 0.   ],\n",
       "       [0.997, 0.003, 0.   ],\n",
       "       [0.968, 0.032, 0.   ],\n",
       "       [0.957, 0.043, 0.   ],\n",
       "       [0.95 , 0.05 , 0.   ],\n",
       "       [0.98 , 0.02 , 0.   ],\n",
       "       [0.988, 0.012, 0.   ],\n",
       "       [0.988, 0.012, 0.   ],\n",
       "       [0.968, 0.032, 0.   ],\n",
       "       [0.96 , 0.04 , 0.   ],\n",
       "       [0.985, 0.015, 0.   ],\n",
       "       [0.997, 0.003, 0.   ],\n",
       "       [0.998, 0.002, 0.   ],\n",
       "       [0.969, 0.031, 0.   ],\n",
       "       [0.989, 0.011, 0.   ],\n",
       "       [0.993, 0.007, 0.   ],\n",
       "       [0.969, 0.031, 0.   ],\n",
       "       [0.977, 0.023, 0.   ],\n",
       "       [0.985, 0.015, 0.   ],\n",
       "       [0.993, 0.007, 0.   ],\n",
       "       [0.888, 0.112, 0.   ],\n",
       "       [0.985, 0.015, 0.   ],\n",
       "       [0.984, 0.016, 0.   ],\n",
       "       [0.983, 0.017, 0.   ],\n",
       "       [0.97 , 0.03 , 0.   ],\n",
       "       [0.992, 0.008, 0.   ],\n",
       "       [0.981, 0.019, 0.   ],\n",
       "       [0.992, 0.008, 0.   ],\n",
       "       [0.985, 0.015, 0.   ],\n",
       "       [0.008, 0.977, 0.015],\n",
       "       [0.014, 0.926, 0.061],\n",
       "       [0.004, 0.935, 0.062],\n",
       "       [0.005, 0.779, 0.216],\n",
       "       [0.004, 0.895, 0.101],\n",
       "       [0.004, 0.685, 0.311],\n",
       "       [0.009, 0.815, 0.177],\n",
       "       [0.046, 0.909, 0.044],\n",
       "       [0.005, 0.958, 0.036],\n",
       "       [0.015, 0.699, 0.285],\n",
       "       [0.01 , 0.884, 0.105],\n",
       "       [0.017, 0.866, 0.116],\n",
       "       [0.005, 0.97 , 0.025],\n",
       "       [0.003, 0.747, 0.25 ],\n",
       "       [0.07 , 0.908, 0.022],\n",
       "       [0.015, 0.971, 0.015],\n",
       "       [0.005, 0.516, 0.479],\n",
       "       [0.012, 0.954, 0.034],\n",
       "       [0.001, 0.703, 0.296],\n",
       "       [0.012, 0.933, 0.054],\n",
       "       [0.002, 0.308, 0.69 ],\n",
       "       [0.02 , 0.956, 0.023],\n",
       "       [0.001, 0.541, 0.458],\n",
       "       [0.003, 0.834, 0.163],\n",
       "       [0.012, 0.965, 0.024],\n",
       "       [0.011, 0.966, 0.023],\n",
       "       [0.002, 0.936, 0.062],\n",
       "       [0.002, 0.727, 0.272],\n",
       "       [0.005, 0.755, 0.24 ],\n",
       "       [0.046, 0.947, 0.007],\n",
       "       [0.013, 0.929, 0.059],\n",
       "       [0.017, 0.953, 0.031],\n",
       "       [0.02 , 0.947, 0.033],\n",
       "       [0.   , 0.182, 0.818],\n",
       "       [0.003, 0.37 , 0.626],\n",
       "       [0.019, 0.794, 0.187],\n",
       "       [0.006, 0.937, 0.056],\n",
       "       [0.002, 0.907, 0.091],\n",
       "       [0.023, 0.873, 0.105],\n",
       "       [0.008, 0.816, 0.176],\n",
       "       [0.003, 0.647, 0.35 ],\n",
       "       [0.006, 0.822, 0.172],\n",
       "       [0.012, 0.936, 0.052],\n",
       "       [0.037, 0.925, 0.038],\n",
       "       [0.008, 0.795, 0.197],\n",
       "       [0.018, 0.901, 0.081],\n",
       "       [0.014, 0.863, 0.123],\n",
       "       [0.011, 0.946, 0.042],\n",
       "       [0.125, 0.865, 0.01 ],\n",
       "       [0.014, 0.884, 0.101],\n",
       "       [0.   , 0.003, 0.997],\n",
       "       [0.   , 0.043, 0.957],\n",
       "       [0.   , 0.095, 0.905],\n",
       "       [0.   , 0.061, 0.939],\n",
       "       [0.   , 0.017, 0.983],\n",
       "       [0.   , 0.041, 0.959],\n",
       "       [0.   , 0.035, 0.965],\n",
       "       [0.   , 0.104, 0.896],\n",
       "       [0.   , 0.061, 0.939],\n",
       "       [0.   , 0.039, 0.961],\n",
       "       [0.001, 0.329, 0.669],\n",
       "       [0.   , 0.12 , 0.88 ],\n",
       "       [0.   , 0.145, 0.855],\n",
       "       [0.   , 0.025, 0.975],\n",
       "       [0.   , 0.01 , 0.99 ],\n",
       "       [0.   , 0.063, 0.937],\n",
       "       [0.   , 0.158, 0.842],\n",
       "       [0.   , 0.074, 0.926],\n",
       "       [0.   , 0.006, 0.994],\n",
       "       [0.   , 0.189, 0.811],\n",
       "       [0.   , 0.071, 0.929],\n",
       "       [0.   , 0.038, 0.962],\n",
       "       [0.   , 0.042, 0.958],\n",
       "       [0.001, 0.358, 0.641],\n",
       "       [0.   , 0.085, 0.915],\n",
       "       [0.   , 0.261, 0.739],\n",
       "       [0.001, 0.398, 0.601],\n",
       "       [0.001, 0.309, 0.69 ],\n",
       "       [0.   , 0.027, 0.973],\n",
       "       [0.   , 0.516, 0.484],\n",
       "       [0.   , 0.165, 0.835],\n",
       "       [0.   , 0.443, 0.557],\n",
       "       [0.   , 0.02 , 0.98 ],\n",
       "       [0.001, 0.464, 0.536],\n",
       "       [0.   , 0.084, 0.916],\n",
       "       [0.   , 0.141, 0.859],\n",
       "       [0.   , 0.016, 0.984],\n",
       "       [0.   , 0.137, 0.863],\n",
       "       [0.001, 0.318, 0.68 ],\n",
       "       [0.   , 0.268, 0.731],\n",
       "       [0.   , 0.036, 0.964],\n",
       "       [0.001, 0.346, 0.654],\n",
       "       [0.   , 0.043, 0.957],\n",
       "       [0.   , 0.028, 0.972],\n",
       "       [0.   , 0.024, 0.976],\n",
       "       [0.   , 0.154, 0.846],\n",
       "       [0.   , 0.18 , 0.819],\n",
       "       [0.   , 0.213, 0.786],\n",
       "       [0.   , 0.033, 0.967],\n",
       "       [0.   , 0.11 , 0.89 ]])"
      ]
     },
     "execution_count": 38,
     "metadata": {},
     "output_type": "execute_result"
    }
   ],
   "source": [
    "P = softmax(X,theta)\n",
    "np.round(P,3) #round entries of P to three decimals"
   ]
  },
  {
   "cell_type": "code",
   "execution_count": 39,
   "metadata": {},
   "outputs": [],
   "source": [
    "def predictor_softmax(X,theta):\n",
    "    P = softmax(X,theta)\n",
    "    return np.argmax(np.round(P,2),axis=1)"
   ]
  },
  {
   "cell_type": "code",
   "execution_count": 40,
   "metadata": {},
   "outputs": [],
   "source": [
    "y_predicted = predictor_softmax(X,theta)\n",
    "y_predicted = y_predicted[:,None]"
   ]
  },
  {
   "cell_type": "code",
   "execution_count": 41,
   "metadata": {},
   "outputs": [
    {
     "data": {
      "text/plain": [
       "array([[50.,  0.,  0.],\n",
       "       [ 0., 47.,  3.],\n",
       "       [ 0.,  1., 49.]])"
      ]
     },
     "execution_count": 41,
     "metadata": {},
     "output_type": "execute_result"
    }
   ],
   "source": [
    "'Confusion matrix'\n",
    "C = np.zeros((3,3))\n",
    "for i in range(3):\n",
    "    for j in range(3):\n",
    "        C[i,j]=sum(y_predicted[y==i]==j)\n",
    "C"
   ]
  },
  {
   "cell_type": "code",
   "execution_count": null,
   "metadata": {},
   "outputs": [],
   "source": []
  },
  {
   "cell_type": "code",
   "execution_count": null,
   "metadata": {},
   "outputs": [],
   "source": []
  },
  {
   "cell_type": "code",
   "execution_count": null,
   "metadata": {},
   "outputs": [],
   "source": []
  },
  {
   "cell_type": "code",
   "execution_count": null,
   "metadata": {},
   "outputs": [],
   "source": []
  },
  {
   "cell_type": "code",
   "execution_count": null,
   "metadata": {},
   "outputs": [],
   "source": []
  },
  {
   "cell_type": "code",
   "execution_count": null,
   "metadata": {},
   "outputs": [],
   "source": []
  }
 ],
 "metadata": {
  "kernelspec": {
   "display_name": "Python 3",
   "language": "python",
   "name": "python3"
  },
  "language_info": {
   "codemirror_mode": {
    "name": "ipython",
    "version": 3
   },
   "file_extension": ".py",
   "mimetype": "text/x-python",
   "name": "python",
   "nbconvert_exporter": "python",
   "pygments_lexer": "ipython3",
   "version": "3.6.8"
  }
 },
 "nbformat": 4,
 "nbformat_minor": 2
}
